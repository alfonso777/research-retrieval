{
  "nbformat": 4,
  "nbformat_minor": 0,
  "metadata": {
    "colab": {
      "name": "research-retrieval.ipynb",
      "provenance": [],
      "collapsed_sections": [],
      "mount_file_id": "13ITasuxzBD7CFld_F1UGRoPQD9ALOJiz",
      "authorship_tag": "ABX9TyMVOUHAcQo6uUxEonuEHVDD"
    },
    "kernelspec": {
      "name": "python3",
      "display_name": "Python 3"
    }
  },
  "cells": [
    {
      "cell_type": "code",
      "metadata": {
        "id": "dG-qkaaIbHrl",
        "colab_type": "code",
        "colab": {}
      },
      "source": [
        "#Dependencies\n",
        "#!pip install pybliometrics\n",
        "!pip install pip elsapy\n",
        "#!pip install python-dotenv"
      ],
      "execution_count": null,
      "outputs": []
    },
    {
      "cell_type": "code",
      "metadata": {
        "id": "A-i6L2URLrT2",
        "colab_type": "code",
        "colab": {}
      },
      "source": [
        "#from google.colab import drive\n",
        "#drive.mount('/content/drive', force_remount= True)\n",
        "#!ls \"/content/drive/My Drive\"\n",
        "import os\n",
        "from configparser import ConfigParser\n",
        "config = ConfigParser()\n",
        "config.read('/content/drive/My Drive/confs/scopus.conf')\n",
        "os.environ['SCOPUS_KEY'] = config['scopus']['APIKey']\n"
      ],
      "execution_count": 5,
      "outputs": []
    },
    {
      "cell_type": "code",
      "metadata": {
        "id": "CH05jZqAahDX",
        "colab_type": "code",
        "colab": {}
      },
      "source": [
        "from pybliometrics.scopus import ScopusSearch\n",
        "from pybliometrics.scopus.utils import config\n",
        "config['Authentication']['APIKey'] = os.environ['SCOPUS_KEY']\n",
        "print(config['Authentication']['APIKey'])\n",
        "\n",
        "articles = ScopusSearch('ISSN 0169-023X', download=False)\n",
        "articles.get_results_size()\n"
      ],
      "execution_count": null,
      "outputs": []
    },
    {
      "cell_type": "code",
      "metadata": {
        "id": "1Qliy5onhjya",
        "colab_type": "code",
        "colab": {
          "base_uri": "https://localhost:8080/",
          "height": 802
        },
        "outputId": "2050af65-14b9-469e-ebd1-dc1700563349"
      },
      "source": [
        "global results\n",
        "global results_df\n",
        "from elsapy.elsclient import ElsClient\n",
        "from elsapy.elsprofile import ElsAuthor, ElsAffil\n",
        "from elsapy.elsdoc import FullDoc, AbsDoc\n",
        "from elsapy.elssearch import ElsSearch\n",
        "import os\n",
        "import json\n",
        "\n",
        "client = ElsClient(os.environ['SCOPUS_KEY'])\n",
        "articles_search = ElsSearch('ISSN(0169-023X) AND PUBYEAR > 1999', 'scopus')\n",
        "articles_search.execute(client, get_all = False)\n",
        "results = articles_search.results\n",
        "results_df  = articles_search.results_df \n",
        "print(len(results))\n",
        "results[0]\n"
      ],
      "execution_count": 20,
      "outputs": [
        {
          "output_type": "stream",
          "text": [
            "1286\n"
          ],
          "name": "stdout"
        },
        {
          "output_type": "execute_result",
          "data": {
            "text/plain": [
              "{'@_fa': 'true',\n",
              " 'affiliation': [{'@_fa': 'true',\n",
              "   'affiliation-city': 'Houston',\n",
              "   'affiliation-country': 'United States',\n",
              "   'affilname': 'University of Houston'}],\n",
              " 'article-number': '101730',\n",
              " 'citedby-count': '0',\n",
              " 'dc:creator': 'Ordonez C.',\n",
              " 'dc:identifier': 'SCOPUS_ID:85079901526',\n",
              " 'dc:title': 'Guest Editorial—DaWaK 2018 Special Issue—Trends in Big Data Analytics',\n",
              " 'eid': '2-s2.0-85079901526',\n",
              " 'link': [{'@_fa': 'true',\n",
              "   '@href': 'https://api.elsevier.com/content/abstract/scopus_id/85079901526',\n",
              "   '@ref': 'self'},\n",
              "  {'@_fa': 'true',\n",
              "   '@href': 'https://api.elsevier.com/content/abstract/scopus_id/85079901526?field=author,affiliation',\n",
              "   '@ref': 'author-affiliation'},\n",
              "  {'@_fa': 'true',\n",
              "   '@href': 'https://www.scopus.com/inward/record.uri?partnerID=HzOxMe3b&scp=85079901526&origin=inward',\n",
              "   '@ref': 'scopus'},\n",
              "  {'@_fa': 'true',\n",
              "   '@href': 'https://www.scopus.com/inward/citedby.uri?partnerID=HzOxMe3b&scp=85079901526&origin=inward',\n",
              "   '@ref': 'scopus-citedby'},\n",
              "  {'@_fa': 'true',\n",
              "   '@href': 'https://api.elsevier.com/content/article/eid/1-s2.0-S0169023X19304318',\n",
              "   '@ref': 'full-text'}],\n",
              " 'openaccess': '0',\n",
              " 'openaccessFlag': False,\n",
              " 'pii': 'S0169023X19304318',\n",
              " 'prism:aggregationType': 'Journal',\n",
              " 'prism:coverDate': '2020-03-01',\n",
              " 'prism:coverDisplayDate': 'March 2020',\n",
              " 'prism:doi': '10.1016/j.datak.2019.101730',\n",
              " 'prism:issn': '0169023X',\n",
              " 'prism:pageRange': None,\n",
              " 'prism:publicationName': 'Data and Knowledge Engineering',\n",
              " 'prism:url': 'https://api.elsevier.com/content/abstract/scopus_id/85079901526',\n",
              " 'prism:volume': '126',\n",
              " 'source-id': '24437',\n",
              " 'subtype': 'ed',\n",
              " 'subtypeDescription': 'Editorial'}"
            ]
          },
          "metadata": {
            "tags": []
          },
          "execution_count": 20
        }
      ]
    },
    {
      "cell_type": "code",
      "metadata": {
        "id": "C-p5hqLmYO_e",
        "colab_type": "code",
        "colab": {}
      },
      "source": [
        "import pandas as pd\n",
        "#l1 = [ l['@href'] for l in results[0]['link'] if l['@ref']=='scopus']\n",
        "\n",
        "pd.set_option('max_colwidth', -1)\n",
        "results_df.head()\n"
      ],
      "execution_count": null,
      "outputs": []
    },
    {
      "cell_type": "code",
      "metadata": {
        "id": "m3gqkf6ZPtsn",
        "colab_type": "code",
        "colab": {}
      },
      "source": [
        "import lxml.html\n",
        "import requests\n",
        "\n",
        "def get_abstract_keywords_by_pii(pii):\n",
        "  try:\n",
        "    article_url = 'https://www.sciencedirect.com/science/article/abs/pii/' + pii\n",
        "    query_abstract = \"//article[@role='main']//div[@id='abstracts']/div/div\"\n",
        "    query_keywords = \"//article[@role='main']//div[@class='keywords-section']/div\"\n",
        "    header = {\n",
        "      'User-Agent': 'Mozilla/5.0 (Windows NT 10.0; Win64; x64; rv:78.0) Gecko/20100101 Firefox/78.0'\n",
        "    }\n",
        "    response = requests.get(article_url, headers=header)\n",
        "    html = lxml.html.fromstring(response.content.decode('utf-8'))\n",
        "    abstract = html.xpath(query_abstract)[0].text_content()\n",
        "    keywords = html.xpath(query_keywords)[0].text_content()\n",
        "    return (abstract, ', '.join([t.text_content() for t in html.xpath(query_keywords)]))\n",
        "  except Exception as e:\n",
        "    print(str(e))\n",
        "    return ('Error at fetching', 'Error at fetching')\n",
        "\n",
        "#result = get_abstract_keywords_by_pii('S0169023X19304380')\n",
        "#print(result[0])\n",
        "#print(result[1])\n",
        "\n",
        "#global target_df\n",
        "target_df = results_df[['dc:identifier','dc:creator','dc:title', 'prism:doi','prism:issn','prism:volume','pii', 'prism:publicationName','subtype','subtypeDescription','prism:coverDate','prism:aggregationType']]\n",
        "target_df['abstract'] = target_df.apply(lambda row: get_abstract_keywords_by_pii(row['pii'])[0], axis=1 )\n",
        "target_df['keywords'] = target_df.apply(lambda row: get_abstract_keywords_by_pii(row['pii'])[1], axis=1 )\n",
        "target_df.to_csv('data-knowledge-articles.csv')\n",
        "target_df.head()\n"
      ],
      "execution_count": null,
      "outputs": []
    },
    {
      "cell_type": "code",
      "metadata": {
        "id": "Lxt7v9MqGIlQ",
        "colab_type": "code",
        "colab": {
          "base_uri": "https://localhost:8080/",
          "height": 74
        },
        "outputId": "72248698-f431-4fe4-d688-c3d00b1c906c"
      },
      "source": [
        "from elsapy.elsclient import ElsClient\n",
        "from elsapy.elsdoc import FullDoc, AbsDoc\n",
        "import json\n",
        "\n",
        "client = ElsClient(os.environ['SCOPUS_KEY'])\n",
        "doc = AbsDoc(scp_id = '85079901526')\n",
        "#doc = AbsDoc(uri = 'https://api.elsevier.com/content/abstract/scopus_id/85079901526')\n",
        "#doc = FullDoc(doi='10.1016/j.datak.2019.101730')\n",
        "\n",
        "\n",
        "if doc.read(els_client=client):\n",
        "   print(doc.data)\n",
        "else:\n",
        "   print(\"Nothing\")\n",
        "print(\"Request status code: %s\" % client.req_status)\n"
      ],
      "execution_count": null,
      "outputs": [
        {
          "output_type": "stream",
          "text": [
            "{'affiliation': [{'affiliation-city': 'Houston', 'affilname': 'University of Houston', 'affiliation-country': 'United States'}, {'affiliation-city': 'Futuroscope', 'affilname': 'ISAE-ENSMA', 'affiliation-country': 'France'}], 'coredata': {'srctype': 'j', 'eid': '2-s2.0-85079901526', 'prism:coverDate': '2020-03-01', 'prism:aggregationType': 'Journal', 'prism:url': 'https://api.elsevier.com/content/abstract/scopus_id/85079901526', 'subtypeDescription': 'Editorial', 'dc:creator': {'author': [{'ce:given-name': 'Carlos', 'preferred-name': {'ce:given-name': 'Carlos', 'ce:initials': 'C.', 'ce:surname': 'Ordonez', 'ce:indexed-name': 'Ordonez C.'}, '@seq': '1', 'ce:initials': 'C.', '@_fa': 'true', 'affiliation': {'@id': '60005837', '@href': 'https://api.elsevier.com/content/affiliation/affiliation_id/60005837'}, 'ce:surname': 'Ordonez', '@auid': '57203051107', 'author-url': 'https://api.elsevier.com/content/author/author_id/57203051107', 'ce:indexed-name': 'Ordonez C.'}]}, 'link': [{'@_fa': 'true', '@rel': 'self', '@href': 'https://api.elsevier.com/content/abstract/scopus_id/85079901526'}, {'@_fa': 'true', '@rel': 'scopus', '@href': 'https://www.scopus.com/inward/record.uri?partnerID=HzOxMe3b&scp=85079901526&origin=inward'}, {'@_fa': 'true', '@rel': 'scopus-citedby', '@href': 'https://www.scopus.com/inward/citedby.uri?partnerID=HzOxMe3b&scp=85079901526&origin=inward'}], 'prism:publicationName': 'Data and Knowledge Engineering', 'source-id': '24437', 'pii': 'S0169023X19304318', 'citedby-count': '0', 'prism:volume': '126', 'subtype': 'ed', 'dc:title': 'Guest Editorial—DaWaK 2018 Special Issue—Trends in Big Data Analytics', 'openaccess': '0', 'openaccessFlag': 'false', 'prism:doi': '10.1016/j.datak.2019.101730', 'prism:issn': '0169023X', 'article-number': '101730', 'dc:identifier': 'SCOPUS_ID:85079901526', 'dc:publisher': 'Elsevier B.V.'}}\n",
            "Request status code: {'status_code': 200, 'status_msg': 'data retrieved'}\n"
          ],
          "name": "stdout"
        }
      ]
    }
  ]
}