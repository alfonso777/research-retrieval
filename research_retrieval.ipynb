{
  "nbformat": 4,
  "nbformat_minor": 0,
  "metadata": {
    "colab": {
      "name": "research-retrieval.ipynb",
      "provenance": [],
      "collapsed_sections": [],
      "mount_file_id": "13ITasuxzBD7CFld_F1UGRoPQD9ALOJiz",
      "authorship_tag": "ABX9TyPqXl+uCW/AAxk5hG0bCT6q"
    },
    "kernelspec": {
      "name": "python3",
      "display_name": "Python 3"
    }
  },
  "cells": [
    {
      "cell_type": "code",
      "metadata": {
        "id": "dG-qkaaIbHrl",
        "colab_type": "code",
        "colab": {}
      },
      "source": [
        "#Dependencies\n",
        "#!pip install pybliometrics\n",
        "!pip install pip elsapy\n",
        "#!pip install python-dotenv"
      ],
      "execution_count": null,
      "outputs": []
    },
    {
      "cell_type": "code",
      "metadata": {
        "id": "A-i6L2URLrT2",
        "colab_type": "code",
        "colab": {}
      },
      "source": [
        "#from google.colab import drive\n",
        "#drive.mount('/content/drive', force_remount= True)\n",
        "#!ls \"/content/drive/My Drive\"\n",
        "import os\n",
        "from configparser import ConfigParser\n",
        "config = ConfigParser()\n",
        "config.read('/content/drive/My Drive/confs/scopus.conf')\n",
        "os.environ['SCOPUS_KEY'] = config['scopus']['APIKey']\n"
      ],
      "execution_count": null,
      "outputs": []
    },
    {
      "cell_type": "code",
      "metadata": {
        "id": "CH05jZqAahDX",
        "colab_type": "code",
        "colab": {}
      },
      "source": [
        "from pybliometrics.scopus import ScopusSearch\n",
        "from pybliometrics.scopus.utils import config\n",
        "config['Authentication']['APIKey'] = '7ee0d918ac44ed6d0cad0e8ddbcf4258'\n",
        "print(config['Authentication']['APIKey'])\n",
        "\n",
        "articles = ScopusSearch('ISSN 0169-023X', download=False)\n",
        "articles.get_results_size()\n"
      ],
      "execution_count": null,
      "outputs": []
    },
    {
      "cell_type": "code",
      "metadata": {
        "id": "1Qliy5onhjya",
        "colab_type": "code",
        "colab": {}
      },
      "source": [
        "global results\n",
        "global results_df\n",
        "from elsapy.elsclient import ElsClient\n",
        "from elsapy.elsprofile import ElsAuthor, ElsAffil\n",
        "from elsapy.elsdoc import FullDoc, AbsDoc\n",
        "from elsapy.elssearch import ElsSearch\n",
        "import os\n",
        "import json\n",
        "\n",
        "client = ElsClient(os.environ['SCOPUS_KEY'])\n",
        "articles_search = ElsSearch('ISSN(0169-023X) AND PUBYEAR > 2000', 'scopus')\n",
        "articles_search.execute(client, get_all = False)\n",
        "results = articles_search.results\n",
        "results_df  = articles_search.results_df \n",
        "print(len(results))\n",
        "results[0]\n",
        "#content1  = articles_search.results[0]\n",
        "#print(content1)\n",
        "#print(content1['dc:identifier'])\n",
        "#doc = AbsDoc(content1['dc:identifier'])\n",
        "#doc.read(client)\n",
        "#doc.data\n",
        "\n",
        "\n",
        "\n",
        "#import pandas as pd\n",
        "#df = pd.DataFrame(articles_search.results)\n",
        "#df.head()\n",
        "#print(df.columns)\n",
        "#for index, row in df.iterrows():\n",
        "  #print(row)\n",
        "  #doc = AbsDoc(scp_id = row.eid)\n",
        "  #doc.read(client)\n",
        "  #print(row.eid, row['prism:publicationName'],row['prism:doi'], sep=';')\n",
        "  #print(row['dc:title'], doc.data() if doc.read(client) else  'Not Found',sep='||')\n",
        "  \n",
        "  #print(row['dc:title'], doc.data(),sep='||')"
      ],
      "execution_count": null,
      "outputs": []
    },
    {
      "cell_type": "code",
      "metadata": {
        "id": "C-p5hqLmYO_e",
        "colab_type": "code",
        "colab": {}
      },
      "source": [
        "import pandas as pd\n",
        "#l1 = [ l['@href'] for l in results[0]['link'] if l['@ref']=='scopus']\n",
        "\n",
        "pd.set_option('max_colwidth', -1)\n",
        "\n",
        "results_df.head()\n",
        "#results_df[['dc:identifier','dc:creator','dc:title', 'link', 'prism:doi','prism:issn','prism:volume']]\n",
        "#results[1]\n",
        "#results_df.iloc['link']['scopus']\n",
        "\n",
        "#results_df[['link']]\n",
        "#with pd.option_context('display.max_rows', None, 'display.max_columns', -1):\n",
        "\n",
        "#results_df.loc[:,'link']\n",
        "\n",
        "#results_df.iloc[0].head(1)\n",
        "\n",
        "#results_df['abstract_link'] = results_df['link']['scopus']\n",
        "#del results_df['link']\n",
        "\n",
        "\n",
        "#results_df['scopus_link'] = results_df.loc[results_df['link']['@ref'] == 'scopus', '@href']  #results_df[results_df['link']['@ref'] == ''\n",
        "#results_df.head()"
      ],
      "execution_count": null,
      "outputs": []
    },
    {
      "cell_type": "code",
      "metadata": {
        "id": "m3gqkf6ZPtsn",
        "colab_type": "code",
        "colab": {
          "base_uri": "https://localhost:8080/",
          "height": 36
        },
        "outputId": "2558a189-2f41-4efd-ffe1-8f1408adc683"
      },
      "source": [
        "import lxml.html\n",
        "import requests\n",
        "article_url = 'https://www.sciencedirect.com/science/article/abs/pii/S0169023X19304380'\n",
        "query_abstract = \"//article[@role='main']//div[@id='abstracts']\"\n",
        "query_keywords = \"//article[@role='main']//div[@class='keywords-section']/div\"\n",
        "header = {\n",
        "    'User-Agent': 'Mozilla/5.0 (Windows NT 10.0; Win64; x64; rv:78.0) Gecko/20100101 Firefox/78.0'\n",
        "}\n",
        "response = requests.get(article_url, headers=header)\n",
        "\n",
        "html = lxml.html.fromstring(response.content.decode('utf-8'))\n",
        "html.xpath(query_abstract)[0].text_content()\n",
        "keywords = html.xpath(query_keywords)[0].text_content()\n",
        "', '.join([t.text_content() for t in html.xpath(query_keywords)])\n",
        "\n",
        "\n"
      ],
      "execution_count": 45,
      "outputs": [
        {
          "output_type": "execute_result",
          "data": {
            "application/vnd.google.colaboratory.intrinsic+json": {
              "type": "string"
            },
            "text/plain": [
              "'Graph query processing, Plan generation, Query evaluation on partitioned graphs, Scalability, Map/Reduce'"
            ]
          },
          "metadata": {
            "tags": []
          },
          "execution_count": 45
        }
      ]
    },
    {
      "cell_type": "code",
      "metadata": {
        "id": "Lxt7v9MqGIlQ",
        "colab_type": "code",
        "colab": {
          "base_uri": "https://localhost:8080/",
          "height": 74
        },
        "outputId": "72248698-f431-4fe4-d688-c3d00b1c906c"
      },
      "source": [
        "from elsapy.elsclient import ElsClient\n",
        "from elsapy.elsdoc import FullDoc, AbsDoc\n",
        "import json\n",
        "\n",
        "client = ElsClient(os.environ['SCOPUS_KEY'])\n",
        "doc = AbsDoc(scp_id = '85079901526')\n",
        "#doc = AbsDoc(uri = 'https://api.elsevier.com/content/abstract/scopus_id/85079901526')\n",
        "#doc = FullDoc(doi='10.1016/j.datak.2019.101730')\n",
        "\n",
        "\n",
        "if doc.read(els_client=client):\n",
        "   print(doc.data)\n",
        "else:\n",
        "   print(\"Nothing\")\n",
        "print(\"Request status code: %s\" % client.req_status)\n"
      ],
      "execution_count": null,
      "outputs": [
        {
          "output_type": "stream",
          "text": [
            "{'affiliation': [{'affiliation-city': 'Houston', 'affilname': 'University of Houston', 'affiliation-country': 'United States'}, {'affiliation-city': 'Futuroscope', 'affilname': 'ISAE-ENSMA', 'affiliation-country': 'France'}], 'coredata': {'srctype': 'j', 'eid': '2-s2.0-85079901526', 'prism:coverDate': '2020-03-01', 'prism:aggregationType': 'Journal', 'prism:url': 'https://api.elsevier.com/content/abstract/scopus_id/85079901526', 'subtypeDescription': 'Editorial', 'dc:creator': {'author': [{'ce:given-name': 'Carlos', 'preferred-name': {'ce:given-name': 'Carlos', 'ce:initials': 'C.', 'ce:surname': 'Ordonez', 'ce:indexed-name': 'Ordonez C.'}, '@seq': '1', 'ce:initials': 'C.', '@_fa': 'true', 'affiliation': {'@id': '60005837', '@href': 'https://api.elsevier.com/content/affiliation/affiliation_id/60005837'}, 'ce:surname': 'Ordonez', '@auid': '57203051107', 'author-url': 'https://api.elsevier.com/content/author/author_id/57203051107', 'ce:indexed-name': 'Ordonez C.'}]}, 'link': [{'@_fa': 'true', '@rel': 'self', '@href': 'https://api.elsevier.com/content/abstract/scopus_id/85079901526'}, {'@_fa': 'true', '@rel': 'scopus', '@href': 'https://www.scopus.com/inward/record.uri?partnerID=HzOxMe3b&scp=85079901526&origin=inward'}, {'@_fa': 'true', '@rel': 'scopus-citedby', '@href': 'https://www.scopus.com/inward/citedby.uri?partnerID=HzOxMe3b&scp=85079901526&origin=inward'}], 'prism:publicationName': 'Data and Knowledge Engineering', 'source-id': '24437', 'pii': 'S0169023X19304318', 'citedby-count': '0', 'prism:volume': '126', 'subtype': 'ed', 'dc:title': 'Guest Editorial—DaWaK 2018 Special Issue—Trends in Big Data Analytics', 'openaccess': '0', 'openaccessFlag': 'false', 'prism:doi': '10.1016/j.datak.2019.101730', 'prism:issn': '0169023X', 'article-number': '101730', 'dc:identifier': 'SCOPUS_ID:85079901526', 'dc:publisher': 'Elsevier B.V.'}}\n",
            "Request status code: {'status_code': 200, 'status_msg': 'data retrieved'}\n"
          ],
          "name": "stdout"
        }
      ]
    }
  ]
}