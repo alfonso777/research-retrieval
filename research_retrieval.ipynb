{
  "nbformat": 4,
  "nbformat_minor": 0,
  "metadata": {
    "colab": {
      "name": "research-retrieval.ipynb",
      "provenance": [],
      "authorship_tag": "ABX9TyNjUHqeSIDZDiILKyZkCWYW",
      "include_colab_link": true
    },
    "kernelspec": {
      "name": "python3",
      "display_name": "Python 3"
    }
  },
  "cells": [
    {
      "cell_type": "markdown",
      "metadata": {
        "id": "view-in-github",
        "colab_type": "text"
      },
      "source": [
        "<a href=\"https://colab.research.google.com/github/alfonso777/research-retrieval/blob/master/research_retrieval.ipynb\" target=\"_parent\"><img src=\"https://colab.research.google.com/assets/colab-badge.svg\" alt=\"Open In Colab\"/></a>"
      ]
    },
    {
      "cell_type": "code",
      "metadata": {
        "id": "dG-qkaaIbHrl",
        "colab_type": "code",
        "colab": {
          "base_uri": "https://localhost:8080/",
          "height": 224
        },
        "outputId": "09685df7-254b-461b-a21d-6428e069f062"
      },
      "source": [
        "#Dependencies\n",
        "#!pip install pybliometrics\n",
        "#!pip install pip elsapy"
      ],
      "execution_count": 17,
      "outputs": [
        {
          "output_type": "stream",
          "text": [
            "Requirement already satisfied: pip in /usr/local/lib/python3.6/dist-packages (19.3.1)\n",
            "Collecting elsapy\n",
            "  Downloading https://files.pythonhosted.org/packages/d8/7b/934ef0e29ebc283d60ef9ae78c1f583ef5ca652144dc8215bba4de9d9fde/elsapy-0.5.0-py3-none-any.whl\n",
            "Requirement already satisfied: requests in /usr/local/lib/python3.6/dist-packages (from elsapy) (2.23.0)\n",
            "Requirement already satisfied: chardet<4,>=3.0.2 in /usr/local/lib/python3.6/dist-packages (from requests->elsapy) (3.0.4)\n",
            "Requirement already satisfied: idna<3,>=2.5 in /usr/local/lib/python3.6/dist-packages (from requests->elsapy) (2.10)\n",
            "Requirement already satisfied: certifi>=2017.4.17 in /usr/local/lib/python3.6/dist-packages (from requests->elsapy) (2020.6.20)\n",
            "Requirement already satisfied: urllib3!=1.25.0,!=1.25.1,<1.26,>=1.21.1 in /usr/local/lib/python3.6/dist-packages (from requests->elsapy) (1.24.3)\n",
            "Installing collected packages: elsapy\n",
            "Successfully installed elsapy-0.5.0\n"
          ],
          "name": "stdout"
        }
      ]
    },
    {
      "cell_type": "code",
      "metadata": {
        "id": "CH05jZqAahDX",
        "colab_type": "code",
        "colab": {}
      },
      "source": [
        "from pybliometrics.scopus import ScopusSearch\n",
        "from pybliometrics.scopus.utils import config\n",
        "config['Authentication']['APIKey'] = '7ee0d918ac44ed6d0cad0e8ddbcf4258'\n",
        "print(config['Authentication']['APIKey'])\n",
        "\n",
        "articles = ScopusSearch('ISSN 0169-023X', download=False)\n",
        "articles.get_results_size()\n"
      ],
      "execution_count": null,
      "outputs": []
    },
    {
      "cell_type": "code",
      "metadata": {
        "id": "1Qliy5onhjya",
        "colab_type": "code",
        "colab": {
          "base_uri": "https://localhost:8080/",
          "height": 802
        },
        "outputId": "d3b4280d-bf29-4f48-ede8-dae40ae2f138"
      },
      "source": [
        "from elsapy.elsclient import ElsClient\n",
        "from elsapy.elsprofile import ElsAuthor, ElsAffil\n",
        "from elsapy.elsdoc import FullDoc, AbsDoc\n",
        "from elsapy.elssearch import ElsSearch\n",
        "import json\n",
        "\n",
        "key = \"mykey\"\n",
        "client = ElsClient(key)\n",
        "articles = ElsSearch('ISSN(0169-023X) AND PUBYEAR >= 2000', 'scopus')\n",
        "articles.execute(client, get_all = False)\n",
        "print(len(articles.results))\n",
        "articles.results[0]"
      ],
      "execution_count": 42,
      "outputs": [
        {
          "output_type": "stream",
          "text": [
            "25\n"
          ],
          "name": "stdout"
        },
        {
          "output_type": "execute_result",
          "data": {
            "text/plain": [
              "{'@_fa': 'true',\n",
              " 'affiliation': [{'@_fa': 'true',\n",
              "   'affiliation-city': 'Houston',\n",
              "   'affiliation-country': 'United States',\n",
              "   'affilname': 'University of Houston'}],\n",
              " 'article-number': '101730',\n",
              " 'citedby-count': '0',\n",
              " 'dc:creator': 'Ordonez C.',\n",
              " 'dc:identifier': 'SCOPUS_ID:85079901526',\n",
              " 'dc:title': 'Guest Editorial—DaWaK 2018 Special Issue—Trends in Big Data Analytics',\n",
              " 'eid': '2-s2.0-85079901526',\n",
              " 'link': [{'@_fa': 'true',\n",
              "   '@href': 'https://api.elsevier.com/content/abstract/scopus_id/85079901526',\n",
              "   '@ref': 'self'},\n",
              "  {'@_fa': 'true',\n",
              "   '@href': 'https://api.elsevier.com/content/abstract/scopus_id/85079901526?field=author,affiliation',\n",
              "   '@ref': 'author-affiliation'},\n",
              "  {'@_fa': 'true',\n",
              "   '@href': 'https://www.scopus.com/inward/record.uri?partnerID=HzOxMe3b&scp=85079901526&origin=inward',\n",
              "   '@ref': 'scopus'},\n",
              "  {'@_fa': 'true',\n",
              "   '@href': 'https://www.scopus.com/inward/citedby.uri?partnerID=HzOxMe3b&scp=85079901526&origin=inward',\n",
              "   '@ref': 'scopus-citedby'},\n",
              "  {'@_fa': 'true',\n",
              "   '@href': 'https://api.elsevier.com/content/article/eid/1-s2.0-S0169023X19304318',\n",
              "   '@ref': 'full-text'}],\n",
              " 'openaccess': '0',\n",
              " 'openaccessFlag': False,\n",
              " 'pii': 'S0169023X19304318',\n",
              " 'prism:aggregationType': 'Journal',\n",
              " 'prism:coverDate': '2020-03-01',\n",
              " 'prism:coverDisplayDate': 'March 2020',\n",
              " 'prism:doi': '10.1016/j.datak.2019.101730',\n",
              " 'prism:issn': '0169023X',\n",
              " 'prism:pageRange': None,\n",
              " 'prism:publicationName': 'Data and Knowledge Engineering',\n",
              " 'prism:url': 'https://api.elsevier.com/content/abstract/scopus_id/85079901526',\n",
              " 'prism:volume': '126',\n",
              " 'source-id': '24437',\n",
              " 'subtype': 'ed',\n",
              " 'subtypeDescription': 'Editorial'}"
            ]
          },
          "metadata": {
            "tags": []
          },
          "execution_count": 42
        }
      ]
    }
  ]
}