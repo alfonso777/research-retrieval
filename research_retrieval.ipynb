{
  "nbformat": 4,
  "nbformat_minor": 0,
  "metadata": {
    "colab": {
      "name": "research-retrieval.ipynb",
      "provenance": [],
      "mount_file_id": "13ITasuxzBD7CFld_F1UGRoPQD9ALOJiz",
      "authorship_tag": "ABX9TyMB+4e6oYYl6eCZjd6YiIAC"
    },
    "kernelspec": {
      "name": "python3",
      "display_name": "Python 3"
    }
  },
  "cells": [
    {
      "cell_type": "code",
      "metadata": {
        "id": "dG-qkaaIbHrl",
        "colab_type": "code",
        "colab": {}
      },
      "source": [
        "#Dependencies\n",
        "#!pip install pybliometrics\n",
        "#!pip install pip elsapy\n",
        "#!pip install python-dotenv"
      ],
      "execution_count": null,
      "outputs": []
    },
    {
      "cell_type": "code",
      "metadata": {
        "id": "A-i6L2URLrT2",
        "colab_type": "code",
        "colab": {}
      },
      "source": [
        "#from google.colab import drive\n",
        "#drive.mount('/content/drive', force_remount= True)\n",
        "#!ls \"/content/drive/My Drive\"\n",
        "import os\n",
        "from configparser import ConfigParser\n",
        "config = ConfigParser()\n",
        "config.read('/content/drive/My Drive/confs/scopus.conf')\n",
        "print(config.sections)\n",
        "os.environ['SCOPUS_KEY'] = config['scopus']['APIKey']\n",
        "config['scopus']['APIKey']"
      ],
      "execution_count": null,
      "outputs": []
    },
    {
      "cell_type": "code",
      "metadata": {
        "id": "CH05jZqAahDX",
        "colab_type": "code",
        "colab": {}
      },
      "source": [
        "from pybliometrics.scopus import ScopusSearch\n",
        "from pybliometrics.scopus.utils import config\n",
        "config['Authentication']['APIKey'] = '7ee0d918ac44ed6d0cad0e8ddbcf4258'\n",
        "print(config['Authentication']['APIKey'])\n",
        "\n",
        "articles = ScopusSearch('ISSN 0169-023X', download=False)\n",
        "articles.get_results_size()\n"
      ],
      "execution_count": null,
      "outputs": []
    },
    {
      "cell_type": "code",
      "metadata": {
        "id": "1Qliy5onhjya",
        "colab_type": "code",
        "colab": {
          "base_uri": "https://localhost:8080/",
          "height": 93
        },
        "outputId": "c9ce1eb8-7f73-4f9b-903b-f0487828ae35"
      },
      "source": [
        "from elsapy.elsclient import ElsClient\n",
        "from elsapy.elsprofile import ElsAuthor, ElsAffil\n",
        "from elsapy.elsdoc import FullDoc, AbsDoc\n",
        "from elsapy.elssearch import ElsSearch\n",
        "import os\n",
        "import json\n",
        "\n",
        "client = ElsClient(os.environ['SCOPUS_KEY'])\n",
        "articles_search = ElsSearch('ISSN(0169-023X) AND PUBYEAR > 2000', 'scopus')\n",
        "articles_search.execute(client, get_all = False)\n",
        "print(len(articles_search.results))\n",
        "content1  = articles_search.results[0]\n",
        "print(content1)\n",
        "print(content1['dc:identifier'])\n",
        "doc = AbsDoc(content1['dc:identifier'])\n",
        "doc.read(client)\n",
        "doc.data\n",
        "#content1\n",
        "#import pandas as pd\n",
        "#df = pd.DataFrame(articles_search.results)\n",
        "#df.head()\n",
        "#print(df.columns)\n",
        "#for index, row in df.iterrows():\n",
        "  #doc = AbsDoc(scp_id = row.eid)\n",
        "  #doc.read(client)\n",
        "  #print(row.eid, row['prism:publicationName'],row['prism:doi'], sep=';')\n",
        "  #print(row['dc:title'], doc.data() if doc.read(client) else  'Not Found',sep='||')\n",
        "  \n",
        "  #print(row['dc:title'], doc.data(),sep='||')"
      ],
      "execution_count": null,
      "outputs": [
        {
          "output_type": "stream",
          "text": [
            "25\n",
            "{'@_fa': 'true', 'link': [{'@_fa': 'true', '@ref': 'self', '@href': 'https://api.elsevier.com/content/abstract/scopus_id/85079901526'}, {'@_fa': 'true', '@ref': 'author-affiliation', '@href': 'https://api.elsevier.com/content/abstract/scopus_id/85079901526?field=author,affiliation'}, {'@_fa': 'true', '@ref': 'scopus', '@href': 'https://www.scopus.com/inward/record.uri?partnerID=HzOxMe3b&scp=85079901526&origin=inward'}, {'@_fa': 'true', '@ref': 'scopus-citedby', '@href': 'https://www.scopus.com/inward/citedby.uri?partnerID=HzOxMe3b&scp=85079901526&origin=inward'}, {'@_fa': 'true', '@ref': 'full-text', '@href': 'https://api.elsevier.com/content/article/eid/1-s2.0-S0169023X19304318'}], 'prism:url': 'https://api.elsevier.com/content/abstract/scopus_id/85079901526', 'dc:identifier': 'SCOPUS_ID:85079901526', 'eid': '2-s2.0-85079901526', 'dc:title': 'Guest Editorial—DaWaK 2018 Special Issue—Trends in Big Data Analytics', 'dc:creator': 'Ordonez C.', 'prism:publicationName': 'Data and Knowledge Engineering', 'prism:issn': '0169023X', 'prism:volume': '126', 'prism:pageRange': None, 'prism:coverDate': '2020-03-01', 'prism:coverDisplayDate': 'March 2020', 'prism:doi': '10.1016/j.datak.2019.101730', 'pii': 'S0169023X19304318', 'citedby-count': '0', 'affiliation': [{'@_fa': 'true', 'affilname': 'University of Houston', 'affiliation-city': 'Houston', 'affiliation-country': 'United States'}], 'prism:aggregationType': 'Journal', 'subtype': 'ed', 'subtypeDescription': 'Editorial', 'article-number': '101730', 'source-id': '24437', 'openaccess': '0', 'openaccessFlag': False}\n",
            "SCOPUS_ID:85079901526\n"
          ],
          "name": "stdout"
        }
      ]
    },
    {
      "cell_type": "code",
      "metadata": {
        "id": "Lxt7v9MqGIlQ",
        "colab_type": "code",
        "colab": {
          "base_uri": "https://localhost:8080/",
          "height": 74
        },
        "outputId": "d6cedc38-b901-4750-dfd1-9d469045a81c"
      },
      "source": [
        "from elsapy.elsclient import ElsClient\n",
        "from elsapy.elsdoc import FullDoc, AbsDoc\n",
        "import json\n",
        "\n",
        "client = ElsClient(os.environ['SCOPUS_KEY'])\n",
        "doc = AbsDoc(scp_id = '85079901526')\n",
        "#doc = AbsDoc(uri = 'https://api.elsevier.com/content/abstract/scopus_id/85079901526')\n",
        "#doc = FullDoc(doi='10.1016/j.datak.2019.101730')\n",
        "\n",
        "\n",
        "doc.read(client)\n",
        "doc.data\n",
        "client.req_status\n",
        "\n",
        "# if doc.read(els_client=client):\n",
        "#   print(doc.data)\n",
        "# else:\n",
        "#   print(\"Nothing\")  "
      ],
      "execution_count": null,
      "outputs": [
        {
          "output_type": "execute_result",
          "data": {
            "text/plain": [
              "{'status_code': 429,\n",
              " 'status_msg': \"HTTP 429 Error from https://api.elsevier.com/content/abstract/scopus_id/85079901526 and using headers {'X-ELS-APIKey': '7f59af901d2d86f78a1fd60c1bf9426a', 'User-Agent': 'elsapy-v0.5.0', 'Accept': 'application/json'}: <error-response>\\n    <error-code>QUOTAEXCEEDED</error-code>\\n    <error-message>Request has been placed in time-out for exceeding quota or rate limits. Please reference HTTP header X-RateLimit-Reset for when requests can resubmitted.</error-message>\\n</error-response>\"}"
            ]
          },
          "metadata": {
            "tags": []
          },
          "execution_count": 92
        }
      ]
    }
  ]
}